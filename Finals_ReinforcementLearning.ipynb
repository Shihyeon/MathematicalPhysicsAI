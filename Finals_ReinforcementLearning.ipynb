{
 "cells": [
  {
   "cell_type": "markdown",
   "metadata": {},
   "source": [
    "# Finals\n",
    "## Prob. 2"
   ]
  },
  {
   "cell_type": "code",
   "execution_count": 72,
   "metadata": {},
   "outputs": [],
   "source": [
    "import torch\n",
    "import matplotlib.pyplot as plt\n",
    "from torch import nn"
   ]
  },
  {
   "cell_type": "markdown",
   "metadata": {},
   "source": [
    "$\n",
    "d\\omega = 0\n",
    "$\n",
    "\n",
    "$\n",
    "\\phi = 0\n",
    "$\n",
    "\n",
    "$\n",
    "\\Omega \\times V_{0} = 1\n",
    "$\n",
    "\n",
    "$\n",
    "\\Delta t = 0.001\n",
    "$\n",
    "\n",
    "$\n",
    "U(t=0) = \n",
    "\\begin{pmatrix}\n",
    "1 & 0 \\\\\n",
    "0 & 1 \\\\\n",
    "\\end{pmatrix}\n",
    "$"
   ]
  },
  {
   "cell_type": "code",
   "execution_count": 73,
   "metadata": {},
   "outputs": [],
   "source": [
    "dw = 1.2\n",
    "phi = 0\n",
    "om_v0 = 1\n",
    "dt = 0.001\n",
    "\n",
    "u0 = torch.tensor([[1, 0], [0, 1]]) * (1. + 0j)"
   ]
  },
  {
   "cell_type": "markdown",
   "metadata": {},
   "source": [
    "$\n",
    "H(t) = -\\frac{1}{2} \\Omega V_{0} s(t) \n",
    "\\begin{pmatrix}\n",
    "0                        & e^{i(\\text{d} \\omega t + \\phi)} \\\\\n",
    "e^{-i(\\text{d} \\omega t + \\phi)} & 0                       \\\\\n",
    "\\end{pmatrix}\n",
    "$"
   ]
  },
  {
   "cell_type": "code",
   "execution_count": 74,
   "metadata": {},
   "outputs": [],
   "source": [
    "def H(s_t, T):\n",
    "    t = T*dt\n",
    "    y = -0.5 * om_v0 * s_t * torch.tensor([[0, torch.exp(torch.tensor(+1j * (dw*t + phi)))], \n",
    "                                           [torch.exp(torch.tensor(-1j * (dw*t + phi))), 0]])\n",
    "    return y"
   ]
  },
  {
   "cell_type": "code",
   "execution_count": 75,
   "metadata": {},
   "outputs": [],
   "source": [
    "input_size = 32\n",
    "hidden_layer_overlaps = 3\n",
    "\n",
    "class NeuralNet(nn.Module):\n",
    "    def __init__(self):\n",
    "        super().__init__()\n",
    "        layers = []\n",
    "        in_features = input_size * 8\n",
    "        last_in_features = in_features\n",
    "        out_features = input_size * 16\n",
    "\n",
    "        for _ in range(hidden_layer_overlaps):\n",
    "            layers.append(nn.Linear(in_features, out_features))\n",
    "            layers.append(nn.ReLU())\n",
    "            in_features = out_features\n",
    "            out_features //= 2  # 출력 차원 줄이는 정도 (=나누기 2)\n",
    "        layers.append(nn.Linear(in_features, last_in_features))  # last layer  # input_size*1\n",
    "\n",
    "        self.fcn = nn.Sequential(*layers)  # Fully Connected Network\n",
    "\n",
    "    def forward(self, x):\n",
    "        y = self.fcn(x)\n",
    "        return y"
   ]
  },
  {
   "cell_type": "markdown",
   "metadata": {},
   "source": [
    "$\n",
    "P = \\big|\n",
    "\\begin{pmatrix}\n",
    "0 & 1 \\\\\n",
    "\\end{pmatrix}\n",
    "U(t)\n",
    "\\begin{pmatrix}\n",
    "1 \\\\\n",
    "0 \\\\\n",
    "\\end{pmatrix}\n",
    "\\big| ^2\n",
    "$"
   ]
  },
  {
   "cell_type": "code",
   "execution_count": 76,
   "metadata": {},
   "outputs": [
    {
     "name": "stdout",
     "output_type": "stream",
     "text": [
      "tensor([78.9828], grad_fn=<AddBackward0>)\n",
      "tensor([75.5506], grad_fn=<AddBackward0>)\n",
      "tensor([71.8474], grad_fn=<AddBackward0>)\n",
      "tensor([67.8623], grad_fn=<AddBackward0>)\n",
      "tensor([63.6664], grad_fn=<AddBackward0>)\n",
      "tensor([59.4268], grad_fn=<AddBackward0>)\n",
      "tensor([55.3661], grad_fn=<AddBackward0>)\n",
      "tensor([51.6924], grad_fn=<AddBackward0>)\n",
      "tensor([48.5467], grad_fn=<AddBackward0>)\n",
      "tensor([45.9805], grad_fn=<AddBackward0>)\n",
      "tensor([43.9635], grad_fn=<AddBackward0>)\n",
      "tensor([42.4154], grad_fn=<AddBackward0>)\n",
      "tensor([41.2434], grad_fn=<AddBackward0>)\n",
      "tensor([40.3625], grad_fn=<AddBackward0>)\n",
      "tensor([39.7045], grad_fn=<AddBackward0>)\n",
      "tensor([39.2164], grad_fn=<AddBackward0>)\n",
      "tensor([38.8572], grad_fn=<AddBackward0>)\n",
      "tensor([38.5946], grad_fn=<AddBackward0>)\n",
      "tensor([38.4034], grad_fn=<AddBackward0>)\n",
      "tensor([38.2642], grad_fn=<AddBackward0>)\n",
      "tensor([38.1625], grad_fn=<AddBackward0>)\n",
      "tensor([38.0877], grad_fn=<AddBackward0>)\n",
      "tensor([38.0321], grad_fn=<AddBackward0>)\n",
      "tensor([37.9904], grad_fn=<AddBackward0>)\n",
      "tensor([37.9587], grad_fn=<AddBackward0>)\n",
      "tensor([37.9343], grad_fn=<AddBackward0>)\n",
      "tensor([37.9154], grad_fn=<AddBackward0>)\n",
      "tensor([37.9006], grad_fn=<AddBackward0>)\n",
      "tensor([37.8889], grad_fn=<AddBackward0>)\n",
      "tensor([37.8795], grad_fn=<AddBackward0>)\n",
      "tensor([37.8720], grad_fn=<AddBackward0>)\n",
      "tensor([37.8660], grad_fn=<AddBackward0>)\n",
      "tensor([37.8611], grad_fn=<AddBackward0>)\n",
      "tensor([37.8571], grad_fn=<AddBackward0>)\n",
      "tensor([37.8539], grad_fn=<AddBackward0>)\n",
      "tensor([37.8513], grad_fn=<AddBackward0>)\n",
      "tensor([37.8491], grad_fn=<AddBackward0>)\n",
      "tensor([37.8473], grad_fn=<AddBackward0>)\n",
      "tensor([37.8458], grad_fn=<AddBackward0>)\n",
      "tensor([37.8446], grad_fn=<AddBackward0>)\n",
      "tensor([37.8436], grad_fn=<AddBackward0>)\n",
      "tensor([37.8428], grad_fn=<AddBackward0>)\n",
      "tensor([37.8421], grad_fn=<AddBackward0>)\n",
      "tensor([37.8415], grad_fn=<AddBackward0>)\n",
      "tensor([37.8411], grad_fn=<AddBackward0>)\n",
      "tensor([37.8407], grad_fn=<AddBackward0>)\n",
      "tensor([37.8403], grad_fn=<AddBackward0>)\n",
      "tensor([37.8401], grad_fn=<AddBackward0>)\n",
      "tensor([37.8398], grad_fn=<AddBackward0>)\n",
      "tensor([37.8397], grad_fn=<AddBackward0>)\n",
      "tensor([37.8395], grad_fn=<AddBackward0>)\n",
      "tensor([37.8394], grad_fn=<AddBackward0>)\n",
      "tensor([37.8393], grad_fn=<AddBackward0>)\n",
      "tensor([37.8392], grad_fn=<AddBackward0>)\n",
      "tensor([37.8391], grad_fn=<AddBackward0>)\n",
      "tensor([37.8390], grad_fn=<AddBackward0>)\n",
      "tensor([37.8390], grad_fn=<AddBackward0>)\n",
      "tensor([37.8389], grad_fn=<AddBackward0>)\n",
      "tensor([37.8389], grad_fn=<AddBackward0>)\n",
      "tensor([37.8389], grad_fn=<AddBackward0>)\n",
      "tensor([37.8388], grad_fn=<AddBackward0>)\n",
      "tensor([37.8388], grad_fn=<AddBackward0>)\n",
      "tensor([37.8388], grad_fn=<AddBackward0>)\n",
      "tensor([37.8388], grad_fn=<AddBackward0>)\n",
      "tensor([37.8388], grad_fn=<AddBackward0>)\n",
      "tensor([37.8388], grad_fn=<AddBackward0>)\n",
      "tensor([37.8387], grad_fn=<AddBackward0>)\n",
      "tensor([37.8387], grad_fn=<AddBackward0>)\n",
      "tensor([37.8387], grad_fn=<AddBackward0>)\n",
      "tensor([37.8387], grad_fn=<AddBackward0>)\n",
      "tensor([37.8387], grad_fn=<AddBackward0>)\n",
      "tensor([37.8387], grad_fn=<AddBackward0>)\n",
      "tensor([37.8387], grad_fn=<AddBackward0>)\n",
      "tensor([37.8387], grad_fn=<AddBackward0>)\n",
      "tensor([37.8387], grad_fn=<AddBackward0>)\n",
      "tensor([37.8387], grad_fn=<AddBackward0>)\n",
      "tensor([37.8387], grad_fn=<AddBackward0>)\n",
      "tensor([37.8387], grad_fn=<AddBackward0>)\n",
      "tensor([37.8387], grad_fn=<AddBackward0>)\n",
      "tensor([37.8387], grad_fn=<AddBackward0>)\n",
      "tensor([37.8387], grad_fn=<AddBackward0>)\n",
      "tensor([37.8387], grad_fn=<AddBackward0>)\n",
      "tensor([37.8387], grad_fn=<AddBackward0>)\n",
      "tensor([37.8387], grad_fn=<AddBackward0>)\n",
      "tensor([37.8387], grad_fn=<AddBackward0>)\n",
      "tensor([37.8387], grad_fn=<AddBackward0>)\n",
      "tensor([37.8387], grad_fn=<AddBackward0>)\n",
      "tensor([37.8387], grad_fn=<AddBackward0>)\n",
      "tensor([37.8387], grad_fn=<AddBackward0>)\n",
      "tensor([37.8387], grad_fn=<AddBackward0>)\n",
      "tensor([37.8387], grad_fn=<AddBackward0>)\n",
      "tensor([37.8387], grad_fn=<AddBackward0>)\n",
      "tensor([37.8387], grad_fn=<AddBackward0>)\n",
      "tensor([37.8387], grad_fn=<AddBackward0>)\n",
      "tensor([37.8387], grad_fn=<AddBackward0>)\n",
      "tensor([37.8387], grad_fn=<AddBackward0>)\n",
      "tensor([37.8387], grad_fn=<AddBackward0>)\n",
      "tensor([37.8387], grad_fn=<AddBackward0>)\n",
      "tensor([37.8387], grad_fn=<AddBackward0>)\n",
      "tensor([37.8387], grad_fn=<AddBackward0>)\n"
     ]
    },
    {
     "data": {
      "image/png": "[encoded data removed]",
      "text/plain": [
       "<Figure size 640x480 with 1 Axes>"
      ]
     },
     "metadata": {},
     "output_type": "display_data"
    },
    {
     "data": {
      "image/png": "[encoded data removed]",
      "text/plain": [
       "<Figure size 640x480 with 1 Axes>"
      ]
     },
     "metadata": {},
     "output_type": "display_data"
    },
    {
     "name": "stdout",
     "output_type": "stream",
     "text": [
      "tensor([[ 0.9694-0.0031j,  0.0377-0.2431j],\n",
      "        [-0.0377-0.2431j,  0.9694+0.0031j]], grad_fn=<AddBackward0>)\n"
     ]
    }
   ],
   "source": [
    "learning_rate = 1e-3\n",
    "\n",
    "model = NeuralNet()\n",
    "optimizer = torch.optim.SGD(model.parameters(), lr=learning_rate)  # lr = learning rate\n",
    "\n",
    "loss_list = []\n",
    "epoch_range = 1000+1\n",
    "export_epoch = 10\n",
    "T_size = input_size * 8\n",
    "\n",
    "for epoch in range(epoch_range):\n",
    "    input_t = torch.arange(T_size) * dt\n",
    "    st = model(input_t)\n",
    "    model.train()\n",
    "\n",
    "    ut = u0.detach().clone()\n",
    "\n",
    "    for T in range(1, T_size):\n",
    "        dudt = -1j * torch.matmul(H(st[T], T), ut)\n",
    "        ut = ut + dudt*dt\n",
    "    \n",
    "    p = torch.square(torch.matmul(torch.matmul(torch.tensor([[0, 1]]) * (1. + 0j), ut), torch.tensor([[1], [0]])*(1. + 0j)).abs())[0]\n",
    "    # p_scalar = p.sum()\n",
    "    # print(p, torch.log(p))\n",
    "    # scalar_value = p.item()\n",
    "\n",
    "    # loss = -torch.log(p_scalar).requires_grad_(True)\n",
    "    loss = (10 * torch.log(p).abs().requires_grad_(True) \n",
    "            + 0.01 * (torch.sum((torch.diff(st)**2) + torch.sum(torch.var(st)))).requires_grad_(True)\n",
    "            + 0.01 * torch.sum(st**2).requires_grad_(True))\n",
    "    \n",
    "    loss.backward()\n",
    "    optimizer.step()\n",
    "    optimizer.zero_grad()\n",
    "\n",
    "    if epoch % export_epoch == 1:  # export_epoch = 10\n",
    "        print(loss)\n",
    "        # print(ut)\n",
    "        # plt.plot(st.detach().numpy(), 'b')\n",
    "        # plt.show()\n",
    "        loss_list.append(loss.item())\n",
    "\n",
    "plt.plot(loss_list, 'b.')\n",
    "plt.show()\n",
    "\n",
    "plt.plot(st.detach().numpy(), 'b')\n",
    "plt.show()\n",
    "print(ut)"
   ]
  },
  {
   "cell_type": "code",
   "execution_count": null,
   "metadata": {},
   "outputs": [],
   "source": []
  }
 ],
 "metadata": {
  "kernelspec": {
   "display_name": "main",
   "language": "python",
   "name": "python3"
  },
  "language_info": {
   "codemirror_mode": {
    "name": "ipython",
    "version": 3
   },
   "file_extension": ".py",
   "mimetype": "text/x-python",
   "name": "python",
   "nbconvert_exporter": "python",
   "pygments_lexer": "ipython3",
   "version": "3.11.5"
  }
 },
 "nbformat": 4,
 "nbformat_minor": 2
}
