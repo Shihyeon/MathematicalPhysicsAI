{
 "cells": [
  {
   "cell_type": "markdown",
   "metadata": {},
   "source": [
    "# 기말고사\n",
    "## Prob. 2"
   ]
  },
  {
   "cell_type": "code",
   "execution_count": 239,
   "metadata": {},
   "outputs": [],
   "source": [
    "import torch\n",
    "import numpy as np\n",
    "import matplotlib.pyplot as plt\n",
    "from torch import nn"
   ]
  },
  {
   "cell_type": "markdown",
   "metadata": {},
   "source": [
    "$\n",
    "d\\omega = 0.1\n",
    "$\n",
    "\n",
    "$\n",
    "\\phi = 0.01\n",
    "$\n",
    "\n",
    "$\n",
    "\\Omega \\times V_{0} = 1\n",
    "$\n",
    "\n",
    "$\n",
    "T = 100000\n",
    "$\n",
    "\n",
    "$\n",
    "\\Delta t = 0.001\n",
    "$\n",
    "\n",
    "$\n",
    "U(t=0) = \n",
    "\\begin{pmatrix}\n",
    "1 & 0 \\\\\n",
    "0 & 1 \\\\\n",
    "\\end{pmatrix}\n",
    "$"
   ]
  },
  {
   "cell_type": "code",
   "execution_count": 240,
   "metadata": {},
   "outputs": [],
   "source": [
    "dw = 0\n",
    "phi = 0\n",
    "om_v0 = 1\n",
    "dt = 0.001\n",
    "\n",
    "u0 = torch.tensor([[1, 0], [0, 1]]) * (1. + 0j)"
   ]
  },
  {
   "cell_type": "markdown",
   "metadata": {},
   "source": [
    "$\n",
    "H(t) = -\\frac{1}{2} \\Omega V_{0} s(t) \n",
    "\\begin{pmatrix}\n",
    "0                        & e^{i(\\text{d} \\omega t + \\phi)} \\\\\n",
    "e^{-i(\\text{d} \\omega t + \\phi)} & 0                       \\\\\n",
    "\\end{pmatrix}\n",
    "$"
   ]
  },
  {
   "cell_type": "code",
   "execution_count": 241,
   "metadata": {},
   "outputs": [],
   "source": [
    "def H(s_t, T):\n",
    "    t = T*dt\n",
    "    y = -0.5 * om_v0 * s_t * torch.tensor([[0, torch.exp(torch.tensor(+1j * (dw*t + phi)))], \n",
    "                                           [torch.exp(torch.tensor(-1j * (dw*t + phi))), 0]])\n",
    "    return y"
   ]
  },
  {
   "cell_type": "code",
   "execution_count": 242,
   "metadata": {},
   "outputs": [],
   "source": [
    "a = 100\n",
    "class NeuralNet(nn.Module):\n",
    "    def __init__(self):\n",
    "        super().__init__()\n",
    "        self.fcn = nn.Sequential(nn.Linear(a*8, a*16),\n",
    "                                 nn.ReLU(),\n",
    "                                 nn.Linear(a*16, a*16),\n",
    "                                 nn.ReLU(),\n",
    "                                 nn.Linear(a*16, a*8))\n",
    "                                #  nn.ReLU())  # ReLU가 무엇이지??\n",
    "    \n",
    "    def forward(self, x):\n",
    "        y = self.fcn(x)\n",
    "        return y"
   ]
  },
  {
   "cell_type": "code",
   "execution_count": 243,
   "metadata": {},
   "outputs": [],
   "source": [
    "model = NeuralNet()\n",
    "optimizer = torch.optim.SGD(model.parameters(), lr=1e-3)  # lr = learning rate"
   ]
  },
  {
   "cell_type": "markdown",
   "metadata": {},
   "source": [
    "$\n",
    "P = \\big|\n",
    "\\begin{pmatrix}\n",
    "0 & 1 \\\\\n",
    "\\end{pmatrix}\n",
    "U(t)\n",
    "\\begin{pmatrix}\n",
    "1 \\\\\n",
    "0 \\\\\n",
    "\\end{pmatrix}\n",
    "\\big| ^2\n",
    "$"
   ]
  },
  {
   "cell_type": "code",
   "execution_count": 244,
   "metadata": {},
   "outputs": [
    {
     "name": "stdout",
     "output_type": "stream",
     "text": [
      "tensor(8.7567, grad_fn=<NegBackward0>)\n",
      "tensor(7.7989, grad_fn=<NegBackward0>)\n"
     ]
    }
   ],
   "source": [
    "loss_list = []\n",
    "list = []\n",
    "# list_str = []\n",
    "\n",
    "epoch_range = 1000+1\n",
    "\n",
    "for epoch in range(epoch_range):\n",
    "    input_t = torch.arange(a*8)*dt\n",
    "    st = model(input_t)\n",
    "    model.train()\n",
    "\n",
    "    ut = u0.detach().clone()\n",
    "\n",
    "    for T in range(1, a*8):\n",
    "        dudt = -1j*torch.matmul(H(st[T], T), ut)\n",
    "        ut = ut + dudt*dt\n",
    "    \n",
    "    p = torch.square(torch.matmul(torch.matmul(torch.tensor([[0, 1]]) * (1. + 0j), ut), torch.tensor([[1], [0]])*(1. + 0j)).abs())[0]\n",
    "    p_scalar = p.sum()\n",
    "    # print(\"p:\", p.size(), \"st:\", st.size())\n",
    "    loss = -torch.log(p_scalar).requires_grad_(True)\n",
    "    # print(\"log:\", loss.size())\n",
    "    # loss = torch.sum(st**2).requires_grad_(True)\n",
    "    # print(\"sum:\", loss.size())\n",
    "    # print()\n",
    "    loss.backward()\n",
    "    loss_list.append(loss.item())\n",
    "    optimizer.step()\n",
    "    optimizer.zero_grad()\n",
    "\n",
    "    # plt.plot(T, loss[0])\n",
    "    # plt.show()\n",
    "    if epoch % 10 == 1:\n",
    "        print(loss)\n",
    "    #     print(ut)\n",
    "    #     plt.plot(st.detach().numpy(), 'b.')\n",
    "    #     plt.show()\n",
    "        \n",
    "        list.append(loss.item())\n",
    "        # list_str.append(str(loss.item()))\n",
    "        \n",
    "\n",
    "plt.plot(list, 'b.')\n",
    "plt.show()\n",
    "# print(list_str)"
   ]
  },
  {
   "cell_type": "code",
   "execution_count": null,
   "metadata": {},
   "outputs": [],
   "source": []
  }
 ],
 "metadata": {
  "kernelspec": {
   "display_name": "main",
   "language": "python",
   "name": "python3"
  },
  "language_info": {
   "codemirror_mode": {
    "name": "ipython",
    "version": 3
   },
   "file_extension": ".py",
   "mimetype": "text/x-python",
   "name": "python",
   "nbconvert_exporter": "python",
   "pygments_lexer": "ipython3",
   "version": "3.11.5"
  }
 },
 "nbformat": 4,
 "nbformat_minor": 2
}
