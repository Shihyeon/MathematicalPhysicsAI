{
 "cells": [
  {
   "cell_type": "code",
   "execution_count": 1,
   "metadata": {},
   "outputs": [],
   "source": [
    "import torch\n",
    "import numpy as np"
   ]
  },
  {
   "cell_type": "code",
   "execution_count": 2,
   "metadata": {},
   "outputs": [],
   "source": [
    "data = [[1, 2],[3, 4]]\n",
    "x_data = torch.tensor(data)"
   ]
  },
  {
   "cell_type": "code",
   "execution_count": 9,
   "metadata": {},
   "outputs": [
    {
     "name": "stdout",
     "output_type": "stream",
     "text": [
      "tensor([[1, 2],\n",
      "        [3, 4]])\n",
      "torch.Size([2, 2])\n",
      "tensor([3, 4])\n",
      "tensor(4)\n",
      "4\n"
     ]
    }
   ],
   "source": [
    "print(x_data)\n",
    "print(x_data.shape)\n",
    "print(x_data[1])\n",
    "print(x_data[1][1])\n",
    "print(x_data[1][1].item())  # item()은 scalar로 만드는 함수"
   ]
  },
  {
   "cell_type": "code",
   "execution_count": 11,
   "metadata": {},
   "outputs": [
    {
     "name": "stdout",
     "output_type": "stream",
     "text": [
      "tensor([[ 0.8485, -0.4339],\n",
      "        [ 0.1641, -0.0597]])\n"
     ]
    }
   ],
   "source": [
    "x = torch.randn(2, 2)   # \n",
    "print(x)"
   ]
  },
  {
   "cell_type": "code",
   "execution_count": 13,
   "metadata": {},
   "outputs": [
    {
     "name": "stdout",
     "output_type": "stream",
     "text": [
      "tensor([ 0.8485, -0.4339])\n",
      "tensor([ 0.8485, -0.4339])\n"
     ]
    }
   ],
   "source": [
    "print(x[0])\n",
    "y = x[0]    # 주소 복사 (좀 더 공부하기)\n",
    "y = x[0].detach().clone()   # 깊은 복사, 얕은 복사로 주소를 복사하는 것이 아닌 것?\n",
    "print(y)"
   ]
  },
  {
   "cell_type": "code",
   "execution_count": 14,
   "metadata": {},
   "outputs": [
    {
     "name": "stdout",
     "output_type": "stream",
     "text": [
      "tensor([ 0.8485, -0.4339])\n",
      "0\n"
     ]
    }
   ],
   "source": [
    "y = 0\n",
    "print(x[0])\n",
    "print(y)"
   ]
  },
  {
   "cell_type": "code",
   "execution_count": null,
   "metadata": {},
   "outputs": [],
   "source": []
  }
 ],
 "metadata": {
  "kernelspec": {
   "display_name": "main",
   "language": "python",
   "name": "python3"
  },
  "language_info": {
   "codemirror_mode": {
    "name": "ipython",
    "version": 3
   },
   "file_extension": ".py",
   "mimetype": "text/x-python",
   "name": "python",
   "nbconvert_exporter": "python",
   "pygments_lexer": "ipython3",
   "version": "3.11.5"
  }
 },
 "nbformat": 4,
 "nbformat_minor": 2
}
