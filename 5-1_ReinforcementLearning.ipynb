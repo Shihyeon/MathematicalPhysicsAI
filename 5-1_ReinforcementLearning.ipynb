{
 "cells": [
  {
   "cell_type": "markdown",
   "metadata": {},
   "source": [
    "# 수리물리4 22차시 20231204\n",
    "## Reinforcement Learning - 인공신경망"
   ]
  },
  {
   "cell_type": "code",
   "execution_count": 109,
   "metadata": {},
   "outputs": [],
   "source": [
    "import torch\n",
    "import numpy as np\n",
    "import matplotlib.pyplot as plt\n",
    "from torch import nn"
   ]
  },
  {
   "cell_type": "markdown",
   "metadata": {},
   "source": [
    "$\n",
    "d\\omega = 0.1\n",
    "$\n",
    "\n",
    "$\n",
    "\\phi = 0.01\n",
    "$\n",
    "\n",
    "$\n",
    "\\Omega \\times V_{0} = 1\n",
    "$\n",
    "\n",
    "$\n",
    "T = 100000\n",
    "$\n",
    "\n",
    "$\n",
    "\\Delta t = 0.001\n",
    "$\n",
    "\n",
    "$\n",
    "U(t=0) = \n",
    "\\begin{pmatrix}\n",
    "1 & 0 \\\\\n",
    "0 & 1 \\\\\n",
    "\\end{pmatrix}\n",
    "$"
   ]
  },
  {
   "cell_type": "code",
   "execution_count": 110,
   "metadata": {},
   "outputs": [],
   "source": [
    "dw = 0\n",
    "phi = 0\n",
    "om_v0 = 1\n",
    "T = 10000\n",
    "dt = 0.001\n",
    "\n",
    "u0 = torch.tensor([[1, 0], [0, 1]])"
   ]
  },
  {
   "cell_type": "code",
   "execution_count": 111,
   "metadata": {},
   "outputs": [],
   "source": [
    "class NeuralNet(nn.Module):\n",
    "    def __init__(self):\n",
    "        super().__init__()\n",
    "        self.fcn = nn.Sequential(nn.Linear(1024*8, 1024*8),\n",
    "                                 nn.ReLU(),\n",
    "                                 nn.Linear(1024*8, 1024*8),\n",
    "                                 nn.ReLU(),\n",
    "                                 nn.Linear(1024*8, 1024*8),\n",
    "                                 nn.ReLU())  # ReLU가 무엇이지??\n",
    "    \n",
    "    def forward(self, x):\n",
    "        y = self.fcn(x)\n",
    "        return y"
   ]
  },
  {
   "cell_type": "code",
   "execution_count": 112,
   "metadata": {},
   "outputs": [],
   "source": [
    "model = NeuralNet()"
   ]
  },
  {
   "cell_type": "code",
   "execution_count": 113,
   "metadata": {},
   "outputs": [
    {
     "name": "stdout",
     "output_type": "stream",
     "text": [
      "torch.Size([8192])\n"
     ]
    },
    {
     "data": {
      "text/plain": [
       "torch.Size([8192])"
      ]
     },
     "execution_count": 113,
     "metadata": {},
     "output_type": "execute_result"
    }
   ],
   "source": [
    "pred = model(torch.randn(1024*8))\n",
    "print(pred.shape)\n",
    "\n",
    "torch.Size([8192])"
   ]
  },
  {
   "cell_type": "markdown",
   "metadata": {},
   "source": [
    "$\n",
    "H(t) = -\\frac{1}{2} \\Omega V_{0} s(t) \n",
    "\\begin{pmatrix}\n",
    "0                        & e^{i(\\text{d} \\omega t + \\phi)} \\\\\n",
    "e^{-i(\\text{d} \\omega t + \\phi)} & 0                       \\\\\n",
    "\\end{pmatrix}\n",
    "$"
   ]
  },
  {
   "cell_type": "code",
   "execution_count": 114,
   "metadata": {},
   "outputs": [],
   "source": [
    "def H(s_t, t):\n",
    "    y = -0.5 * om_v0 * s_t * np.array([[0, np.exp( 1j * (dw*t + phi))], \n",
    "                                     [np.exp(-1j * (dw*t + phi)), 0]])\n",
    "    return y\n",
    "\n",
    "input_x = torch.arange(1024*8)"
   ]
  },
  {
   "cell_type": "code",
   "execution_count": 115,
   "metadata": {},
   "outputs": [
    {
     "name": "stdout",
     "output_type": "stream",
     "text": [
      "tensor([532.5525,   0.0000,   0.0000,  ..., 212.0625,  81.7687, 364.8577],\n",
      "       grad_fn=<ReluBackward0>) torch.Size([8192])\n"
     ]
    }
   ],
   "source": [
    "input_t = torch.arange(1024*8) * 1.\n",
    "st = model(input_t)\n",
    "print(st, st.shape)"
   ]
  },
  {
   "cell_type": "code",
   "execution_count": 129,
   "metadata": {},
   "outputs": [
    {
     "name": "stdout",
     "output_type": "stream",
     "text": [
      "tensor(0.-4.2485e+42j, dtype=torch.complex128)\n"
     ]
    }
   ],
   "source": [
    "current_u = u0\n",
    "temp_u = 0\n",
    "u_list = []\n",
    "\n",
    "for t in range(1024*8):  # range(T)\n",
    "    u_list.append(current_u)\n",
    "    dudt = np.matmul(-1j * H(st[t].item(), dt*t), current_u)\n",
    "    temp_u = current_u + dudt*dt\n",
    "    current_u = temp_u\n",
    "\n",
    "ut = torch.stack(u_list)\n",
    "u = ut[-1][1, 0]\n",
    "print(u)"
   ]
  },
  {
   "cell_type": "code",
   "execution_count": 132,
   "metadata": {},
   "outputs": [
    {
     "data": {
      "text/plain": [
       "torch.Size([8192, 2, 2])"
      ]
     },
     "execution_count": 132,
     "metadata": {},
     "output_type": "execute_result"
    }
   ],
   "source": [
    "torch.Size([8192, 2, 2])"
   ]
  },
  {
   "cell_type": "code",
   "execution_count": 133,
   "metadata": {},
   "outputs": [
    {
     "ename": "AttributeError",
     "evalue": "module 'torch' has no attribute '_utils'",
     "output_type": "error",
     "traceback": [
      "\u001b[1;31m---------------------------------------------------------------------------\u001b[0m",
      "\u001b[1;31mAttributeError\u001b[0m                            Traceback (most recent call last)",
      "\u001b[1;32mc:\\Work\\github\\MathematicalPhysicsAI\\5-1_ReinforcementLearning.ipynb Cell 13\u001b[0m line \u001b[0;36m1\n\u001b[1;32m----> <a href='vscode-notebook-cell:/c%3A/Work/github/MathematicalPhysicsAI/5-1_ReinforcementLearning.ipynb#X20sZmlsZQ%3D%3D?line=0'>1</a>\u001b[0m plt\u001b[39m.\u001b[39mplot(\u001b[39mabs\u001b[39m(ut[:, \u001b[39m1\u001b[39m, \u001b[39m0\u001b[39m]))\n\u001b[0;32m      <a href='vscode-notebook-cell:/c%3A/Work/github/MathematicalPhysicsAI/5-1_ReinforcementLearning.ipynb#X20sZmlsZQ%3D%3D?line=1'>2</a>\u001b[0m plt\u001b[39m.\u001b[39mshow()\n\u001b[0;32m      <a href='vscode-notebook-cell:/c%3A/Work/github/MathematicalPhysicsAI/5-1_ReinforcementLearning.ipynb#X20sZmlsZQ%3D%3D?line=2'>3</a>\u001b[0m plt\u001b[39m.\u001b[39mplot(\u001b[39mabs\u001b[39m(ut[:, \u001b[39m0\u001b[39m, \u001b[39m1\u001b[39m]))\n",
      "File \u001b[1;32mc:\\Users\\admin\\anaconda3\\envs\\main\\Lib\\site-packages\\matplotlib\\pyplot.py:3578\u001b[0m, in \u001b[0;36mplot\u001b[1;34m(scalex, scaley, data, *args, **kwargs)\u001b[0m\n\u001b[0;32m   3570\u001b[0m \u001b[39m@_copy_docstring_and_deprecators\u001b[39m(Axes\u001b[39m.\u001b[39mplot)\n\u001b[0;32m   3571\u001b[0m \u001b[39mdef\u001b[39;00m \u001b[39mplot\u001b[39m(\n\u001b[0;32m   3572\u001b[0m     \u001b[39m*\u001b[39margs: \u001b[39mfloat\u001b[39m \u001b[39m|\u001b[39m ArrayLike \u001b[39m|\u001b[39m \u001b[39mstr\u001b[39m,\n\u001b[1;32m   (...)\u001b[0m\n\u001b[0;32m   3576\u001b[0m     \u001b[39m*\u001b[39m\u001b[39m*\u001b[39mkwargs,\n\u001b[0;32m   3577\u001b[0m ) \u001b[39m-\u001b[39m\u001b[39m>\u001b[39m \u001b[39mlist\u001b[39m[Line2D]:\n\u001b[1;32m-> 3578\u001b[0m     \u001b[39mreturn\u001b[39;00m gca()\u001b[39m.\u001b[39mplot(\n\u001b[0;32m   3579\u001b[0m         \u001b[39m*\u001b[39margs,\n\u001b[0;32m   3580\u001b[0m         scalex\u001b[39m=\u001b[39mscalex,\n\u001b[0;32m   3581\u001b[0m         scaley\u001b[39m=\u001b[39mscaley,\n\u001b[0;32m   3582\u001b[0m         \u001b[39m*\u001b[39m\u001b[39m*\u001b[39m({\u001b[39m\"\u001b[39m\u001b[39mdata\u001b[39m\u001b[39m\"\u001b[39m: data} \u001b[39mif\u001b[39;00m data \u001b[39mis\u001b[39;00m \u001b[39mnot\u001b[39;00m \u001b[39mNone\u001b[39;00m \u001b[39melse\u001b[39;00m {}),\n\u001b[0;32m   3583\u001b[0m         \u001b[39m*\u001b[39m\u001b[39m*\u001b[39mkwargs,\n\u001b[0;32m   3584\u001b[0m     )\n",
      "File \u001b[1;32mc:\\Users\\admin\\anaconda3\\envs\\main\\Lib\\site-packages\\matplotlib\\axes\\_axes.py:1721\u001b[0m, in \u001b[0;36mAxes.plot\u001b[1;34m(self, scalex, scaley, data, *args, **kwargs)\u001b[0m\n\u001b[0;32m   1478\u001b[0m \u001b[39m\u001b[39m\u001b[39m\"\"\"\u001b[39;00m\n\u001b[0;32m   1479\u001b[0m \u001b[39mPlot y versus x as lines and/or markers.\u001b[39;00m\n\u001b[0;32m   1480\u001b[0m \n\u001b[1;32m   (...)\u001b[0m\n\u001b[0;32m   1718\u001b[0m \u001b[39m(``'green'``) or hex strings (``'#008000'``).\u001b[39;00m\n\u001b[0;32m   1719\u001b[0m \u001b[39m\"\"\"\u001b[39;00m\n\u001b[0;32m   1720\u001b[0m kwargs \u001b[39m=\u001b[39m cbook\u001b[39m.\u001b[39mnormalize_kwargs(kwargs, mlines\u001b[39m.\u001b[39mLine2D)\n\u001b[1;32m-> 1721\u001b[0m lines \u001b[39m=\u001b[39m [\u001b[39m*\u001b[39m\u001b[39mself\u001b[39m\u001b[39m.\u001b[39m_get_lines(\u001b[39mself\u001b[39m, \u001b[39m*\u001b[39margs, data\u001b[39m=\u001b[39mdata, \u001b[39m*\u001b[39m\u001b[39m*\u001b[39mkwargs)]\n\u001b[0;32m   1722\u001b[0m \u001b[39mfor\u001b[39;00m line \u001b[39min\u001b[39;00m lines:\n\u001b[0;32m   1723\u001b[0m     \u001b[39mself\u001b[39m\u001b[39m.\u001b[39madd_line(line)\n",
      "File \u001b[1;32mc:\\Users\\admin\\anaconda3\\envs\\main\\Lib\\site-packages\\matplotlib\\axes\\_base.py:303\u001b[0m, in \u001b[0;36m_process_plot_var_args.__call__\u001b[1;34m(self, axes, data, *args, **kwargs)\u001b[0m\n\u001b[0;32m    301\u001b[0m     this \u001b[39m+\u001b[39m\u001b[39m=\u001b[39m args[\u001b[39m0\u001b[39m],\n\u001b[0;32m    302\u001b[0m     args \u001b[39m=\u001b[39m args[\u001b[39m1\u001b[39m:]\n\u001b[1;32m--> 303\u001b[0m \u001b[39myield from\u001b[39;00m \u001b[39mself\u001b[39m\u001b[39m.\u001b[39m_plot_args(\n\u001b[0;32m    304\u001b[0m     axes, this, kwargs, ambiguous_fmt_datakey\u001b[39m=\u001b[39mambiguous_fmt_datakey)\n",
      "File \u001b[1;32mc:\\Users\\admin\\anaconda3\\envs\\main\\Lib\\site-packages\\matplotlib\\axes\\_base.py:539\u001b[0m, in \u001b[0;36m_process_plot_var_args._plot_args\u001b[1;34m(self, axes, tup, kwargs, return_kwargs, ambiguous_fmt_datakey)\u001b[0m\n\u001b[0;32m    537\u001b[0m     \u001b[39mreturn\u001b[39;00m \u001b[39mlist\u001b[39m(result)\n\u001b[0;32m    538\u001b[0m \u001b[39melse\u001b[39;00m:\n\u001b[1;32m--> 539\u001b[0m     \u001b[39mreturn\u001b[39;00m [l[\u001b[39m0\u001b[39m] \u001b[39mfor\u001b[39;00m l \u001b[39min\u001b[39;00m result]\n",
      "File \u001b[1;32mc:\\Users\\admin\\anaconda3\\envs\\main\\Lib\\site-packages\\matplotlib\\axes\\_base.py:539\u001b[0m, in \u001b[0;36m<listcomp>\u001b[1;34m(.0)\u001b[0m\n\u001b[0;32m    537\u001b[0m     \u001b[39mreturn\u001b[39;00m \u001b[39mlist\u001b[39m(result)\n\u001b[0;32m    538\u001b[0m \u001b[39melse\u001b[39;00m:\n\u001b[1;32m--> 539\u001b[0m     \u001b[39mreturn\u001b[39;00m [l[\u001b[39m0\u001b[39m] \u001b[39mfor\u001b[39;00m l \u001b[39min\u001b[39;00m result]\n",
      "File \u001b[1;32mc:\\Users\\admin\\anaconda3\\envs\\main\\Lib\\site-packages\\matplotlib\\axes\\_base.py:532\u001b[0m, in \u001b[0;36m<genexpr>\u001b[1;34m(.0)\u001b[0m\n\u001b[0;32m    529\u001b[0m \u001b[39melse\u001b[39;00m:\n\u001b[0;32m    530\u001b[0m     labels \u001b[39m=\u001b[39m [label] \u001b[39m*\u001b[39m n_datasets\n\u001b[1;32m--> 532\u001b[0m result \u001b[39m=\u001b[39m (make_artist(axes, x[:, j \u001b[39m%\u001b[39m ncx], y[:, j \u001b[39m%\u001b[39m ncy], kw,\n\u001b[0;32m    533\u001b[0m                       {\u001b[39m*\u001b[39m\u001b[39m*\u001b[39mkwargs, \u001b[39m'\u001b[39m\u001b[39mlabel\u001b[39m\u001b[39m'\u001b[39m: label})\n\u001b[0;32m    534\u001b[0m           \u001b[39mfor\u001b[39;00m j, label \u001b[39min\u001b[39;00m \u001b[39menumerate\u001b[39m(labels))\n\u001b[0;32m    536\u001b[0m \u001b[39mif\u001b[39;00m return_kwargs:\n\u001b[0;32m    537\u001b[0m     \u001b[39mreturn\u001b[39;00m \u001b[39mlist\u001b[39m(result)\n",
      "File \u001b[1;32mc:\\Users\\admin\\anaconda3\\envs\\main\\Lib\\site-packages\\matplotlib\\axes\\_base.py:346\u001b[0m, in \u001b[0;36m_process_plot_var_args._makeline\u001b[1;34m(self, axes, x, y, kw, kwargs)\u001b[0m\n\u001b[0;32m    344\u001b[0m default_dict \u001b[39m=\u001b[39m \u001b[39mself\u001b[39m\u001b[39m.\u001b[39m_getdefaults(\u001b[39mset\u001b[39m(), kw)\n\u001b[0;32m    345\u001b[0m \u001b[39mself\u001b[39m\u001b[39m.\u001b[39m_setdefaults(default_dict, kw)\n\u001b[1;32m--> 346\u001b[0m seg \u001b[39m=\u001b[39m mlines\u001b[39m.\u001b[39mLine2D(x, y, \u001b[39m*\u001b[39m\u001b[39m*\u001b[39mkw)\n\u001b[0;32m    347\u001b[0m \u001b[39mreturn\u001b[39;00m seg, kw\n",
      "File \u001b[1;32mc:\\Users\\admin\\anaconda3\\envs\\main\\Lib\\site-packages\\matplotlib\\lines.py:426\u001b[0m, in \u001b[0;36mLine2D.__init__\u001b[1;34m(self, xdata, ydata, linewidth, linestyle, color, gapcolor, marker, markersize, markeredgewidth, markeredgecolor, markerfacecolor, markerfacecoloralt, fillstyle, antialiased, dash_capstyle, solid_capstyle, dash_joinstyle, solid_joinstyle, pickradius, drawstyle, markevery, **kwargs)\u001b[0m\n\u001b[0;32m    423\u001b[0m \u001b[39mself\u001b[39m\u001b[39m.\u001b[39m_subslice \u001b[39m=\u001b[39m \u001b[39mFalse\u001b[39;00m\n\u001b[0;32m    424\u001b[0m \u001b[39mself\u001b[39m\u001b[39m.\u001b[39m_x_filled \u001b[39m=\u001b[39m \u001b[39mNone\u001b[39;00m  \u001b[39m# used in subslicing; only x is needed\u001b[39;00m\n\u001b[1;32m--> 426\u001b[0m \u001b[39mself\u001b[39m\u001b[39m.\u001b[39mset_data(xdata, ydata)\n",
      "File \u001b[1;32mc:\\Users\\admin\\anaconda3\\envs\\main\\Lib\\site-packages\\matplotlib\\lines.py:661\u001b[0m, in \u001b[0;36mLine2D.set_data\u001b[1;34m(self, *args)\u001b[0m\n\u001b[0;32m    658\u001b[0m     x, y \u001b[39m=\u001b[39m args\n\u001b[0;32m    660\u001b[0m \u001b[39mself\u001b[39m\u001b[39m.\u001b[39mset_xdata(x)\n\u001b[1;32m--> 661\u001b[0m \u001b[39mself\u001b[39m\u001b[39m.\u001b[39mset_ydata(y)\n",
      "File \u001b[1;32mc:\\Users\\admin\\anaconda3\\envs\\main\\Lib\\site-packages\\matplotlib\\lines.py:1308\u001b[0m, in \u001b[0;36mLine2D.set_ydata\u001b[1;34m(self, y)\u001b[0m\n\u001b[0;32m   1302\u001b[0m     _api\u001b[39m.\u001b[39mwarn_deprecated(\n\u001b[0;32m   1303\u001b[0m         since\u001b[39m=\u001b[39m\u001b[39m\"\u001b[39m\u001b[39m3.7\u001b[39m\u001b[39m\"\u001b[39m,\n\u001b[0;32m   1304\u001b[0m         message\u001b[39m=\u001b[39m\u001b[39m\"\u001b[39m\u001b[39mSetting data with a non sequence type \u001b[39m\u001b[39m\"\u001b[39m\n\u001b[0;32m   1305\u001b[0m         \u001b[39m\"\u001b[39m\u001b[39mis deprecated since \u001b[39m\u001b[39m%(since)s\u001b[39;00m\u001b[39m and will be \u001b[39m\u001b[39m\"\u001b[39m\n\u001b[0;32m   1306\u001b[0m         \u001b[39m\"\u001b[39m\u001b[39mremove \u001b[39m\u001b[39m%(removal)s\u001b[39;00m\u001b[39m\"\u001b[39m)\n\u001b[0;32m   1307\u001b[0m     y \u001b[39m=\u001b[39m [y, ]\n\u001b[1;32m-> 1308\u001b[0m \u001b[39mself\u001b[39m\u001b[39m.\u001b[39m_yorig \u001b[39m=\u001b[39m copy\u001b[39m.\u001b[39mcopy(y)\n\u001b[0;32m   1309\u001b[0m \u001b[39mself\u001b[39m\u001b[39m.\u001b[39m_invalidy \u001b[39m=\u001b[39m \u001b[39mTrue\u001b[39;00m\n\u001b[0;32m   1310\u001b[0m \u001b[39mself\u001b[39m\u001b[39m.\u001b[39mstale \u001b[39m=\u001b[39m \u001b[39mTrue\u001b[39;00m\n",
      "File \u001b[1;32mc:\\Users\\admin\\anaconda3\\envs\\main\\Lib\\copy.py:92\u001b[0m, in \u001b[0;36mcopy\u001b[1;34m(x)\u001b[0m\n\u001b[0;32m     90\u001b[0m reductor \u001b[39m=\u001b[39m \u001b[39mgetattr\u001b[39m(x, \u001b[39m\"\u001b[39m\u001b[39m__reduce_ex__\u001b[39m\u001b[39m\"\u001b[39m, \u001b[39mNone\u001b[39;00m)\n\u001b[0;32m     91\u001b[0m \u001b[39mif\u001b[39;00m reductor \u001b[39mis\u001b[39;00m \u001b[39mnot\u001b[39;00m \u001b[39mNone\u001b[39;00m:\n\u001b[1;32m---> 92\u001b[0m     rv \u001b[39m=\u001b[39m reductor(\u001b[39m4\u001b[39m)\n\u001b[0;32m     93\u001b[0m \u001b[39melse\u001b[39;00m:\n\u001b[0;32m     94\u001b[0m     reductor \u001b[39m=\u001b[39m \u001b[39mgetattr\u001b[39m(x, \u001b[39m\"\u001b[39m\u001b[39m__reduce__\u001b[39m\u001b[39m\"\u001b[39m, \u001b[39mNone\u001b[39;00m)\n",
      "File \u001b[1;32mc:\\Users\\admin\\anaconda3\\envs\\main\\Lib\\site-packages\\torch\\_tensor.py:213\u001b[0m, in \u001b[0;36mTensor.__reduce_ex__\u001b[1;34m(self, proto)\u001b[0m\n\u001b[0;32m    212\u001b[0m \u001b[39mdef\u001b[39;00m \u001b[39m__reduce_ex__\u001b[39m(\u001b[39mself\u001b[39m, proto):\n\u001b[1;32m--> 213\u001b[0m     state \u001b[39m=\u001b[39m torch\u001b[39m.\u001b[39m_utils\u001b[39m.\u001b[39m_get_obj_state(\u001b[39mself\u001b[39m)\n\u001b[0;32m    214\u001b[0m     \u001b[39mif\u001b[39;00m \u001b[39mtype\u001b[39m(\u001b[39mself\u001b[39m) \u001b[39mis\u001b[39;00m Tensor \u001b[39mand\u001b[39;00m \u001b[39mnot\u001b[39;00m state:\n\u001b[0;32m    215\u001b[0m         \u001b[39m# Fast path for regular tensor without Python state.\u001b[39;00m\n\u001b[0;32m    216\u001b[0m         \u001b[39mreturn\u001b[39;00m \u001b[39mself\u001b[39m\u001b[39m.\u001b[39m_reduce_ex_internal(proto)\n",
      "File \u001b[1;32mc:\\Users\\admin\\anaconda3\\envs\\main\\Lib\\site-packages\\torch\\__init__.py:1833\u001b[0m, in \u001b[0;36m__getattr__\u001b[1;34m(name)\u001b[0m\n\u001b[0;32m   1830\u001b[0m     \u001b[39mimport\u001b[39;00m \u001b[39mimportlib\u001b[39;00m\n\u001b[0;32m   1831\u001b[0m     \u001b[39mreturn\u001b[39;00m importlib\u001b[39m.\u001b[39mimport_module(\u001b[39mf\u001b[39m\u001b[39m\"\u001b[39m\u001b[39m.\u001b[39m\u001b[39m{\u001b[39;00mname\u001b[39m}\u001b[39;00m\u001b[39m\"\u001b[39m, \u001b[39m__name__\u001b[39m)\n\u001b[1;32m-> 1833\u001b[0m \u001b[39mraise\u001b[39;00m \u001b[39mAttributeError\u001b[39;00m(\u001b[39mf\u001b[39m\u001b[39m\"\u001b[39m\u001b[39mmodule \u001b[39m\u001b[39m'\u001b[39m\u001b[39m{\u001b[39;00m\u001b[39m__name__\u001b[39m\u001b[39m}\u001b[39;00m\u001b[39m'\u001b[39m\u001b[39m has no attribute \u001b[39m\u001b[39m'\u001b[39m\u001b[39m{\u001b[39;00mname\u001b[39m}\u001b[39;00m\u001b[39m'\u001b[39m\u001b[39m\"\u001b[39m)\n",
      "\u001b[1;31mAttributeError\u001b[0m: module 'torch' has no attribute '_utils'"
     ]
    },
    {
     "data": {
      "image/png": "[encoded data removed]",
      "text/plain": [
       "<Figure size 640x480 with 1 Axes>"
      ]
     },
     "metadata": {},
     "output_type": "display_data"
    }
   ],
   "source": [
    "plt.plot(abs(ut[:, 1, 0]))\n",
    "plt.show()\n",
    "plt.plot(abs(ut[:, 0, 1]))\n",
    "plt.show()"
   ]
  },
  {
   "cell_type": "code",
   "execution_count": null,
   "metadata": {},
   "outputs": [],
   "source": []
  }
 ],
 "metadata": {
  "kernelspec": {
   "display_name": "main",
   "language": "python",
   "name": "python3"
  },
  "language_info": {
   "codemirror_mode": {
    "name": "ipython",
    "version": 3
   },
   "file_extension": ".py",
   "mimetype": "text/x-python",
   "name": "python",
   "nbconvert_exporter": "python",
   "pygments_lexer": "ipython3",
   "version": "3.11.5"
  }
 },
 "nbformat": 4,
 "nbformat_minor": 2
}
