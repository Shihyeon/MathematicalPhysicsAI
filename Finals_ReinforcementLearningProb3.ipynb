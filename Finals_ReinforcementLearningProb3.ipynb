{
 "cells": [
  {
   "cell_type": "markdown",
   "metadata": {},
   "source": [
    "# Finals\n",
    "## Prob. 2"
   ]
  },
  {
   "cell_type": "code",
   "execution_count": 27,
   "metadata": {},
   "outputs": [],
   "source": [
    "import torch\n",
    "import numpy as np\n",
    "import matplotlib.pyplot as plt\n",
    "from torch import nn"
   ]
  },
  {
   "cell_type": "markdown",
   "metadata": {},
   "source": [
    "$\n",
    "d\\omega = 0\n",
    "$\n",
    "\n",
    "$\n",
    "\\phi = 0\n",
    "$\n",
    "\n",
    "$\n",
    "\\Omega \\times V_{0} = 1\n",
    "$\n",
    "\n",
    "$\n",
    "\\Delta t = 0.001\n",
    "$\n",
    "\n",
    "$\n",
    "U(t=0) = \n",
    "\\begin{pmatrix}\n",
    "1 & 0 \\\\\n",
    "0 & 1 \\\\\n",
    "\\end{pmatrix}\n",
    "$"
   ]
  },
  {
   "cell_type": "code",
   "execution_count": 28,
   "metadata": {},
   "outputs": [],
   "source": [
    "dw12 = 0.\n",
    "dw1 = 0.\n",
    "dw2 = 0.\n",
    "phi1 = 0.\n",
    "phi2 = 0.\n",
    "om_v0 = 1\n",
    "dt = 0.001\n",
    "\n",
    "u0 = torch.tensor([[1, 0, 0, 0], \n",
    "                   [0, 1, 0, 0], \n",
    "                   [0, 0, 1, 0], \n",
    "                   [0, 0, 0, 1]]) * (1. + 0j)"
   ]
  },
  {
   "cell_type": "markdown",
   "metadata": {},
   "source": [
    "$\n",
    "H(t) = -\\frac{1}{2} \\Omega V_{0} s(t) \n",
    "\\begin{pmatrix}\n",
    "0                        & e^{i(\\text{d} \\omega t + \\phi)} \\\\\n",
    "e^{-i(\\text{d} \\omega t + \\phi)} & 0                       \\\\\n",
    "\\end{pmatrix}\n",
    "$"
   ]
  },
  {
   "cell_type": "code",
   "execution_count": 29,
   "metadata": {},
   "outputs": [],
   "source": [
    "def H(g_t, T):\n",
    "\n",
    "    t = T*dt\n",
    "    y =(g_t * torch.tensor([[0, 0, 0, 0],\n",
    "                            [0, 0, torch.exp(torch.tensor(-1j * (dw12*t))),0],\n",
    "                            [0, torch.exp(torch.tensor(1j*(dw12*t ))), 0, 0],\n",
    "                            [0, 0, 0, 0]])\n",
    "        - 0.5 * om_v0 * 0 * torch.tensor([[0, 0, torch.exp(torch.tensor( 1j * (dw1*t + phi1))), 0],\n",
    "                                          [0, 0, 0, torch.exp(torch.tensor( 1j * (dw1*t + phi1)))],\n",
    "                                          [torch.exp(torch.tensor(-1j * (dw1*t + phi1))), 0, 0, 0],\n",
    "                                          [0, torch.exp(torch.tensor(-1j * (dw1*t + phi1))), 0, 0]])\n",
    "        - 0.5 * om_v0 * 0 * torch.tensor([[0, torch.exp(torch.tensor( 1j * (dw2*t + phi2))), 0 ,0],\n",
    "                                          [torch.exp(torch.tensor(-1j * (dw2*t + phi2))), 0, 0, 0],\n",
    "                                          [0, 0, 0, torch.exp(torch.tensor( 1j * (dw2*t + phi2)))],\n",
    "                                          [0, 0, torch.exp(torch.tensor(-1j * (dw2*t + phi2))), 0]]))\n",
    "    return y"
   ]
  },
  {
   "cell_type": "code",
   "execution_count": 30,
   "metadata": {},
   "outputs": [],
   "source": [
    "input_size = 64\n",
    "hidden_layer_overlaps = 3\n",
    "\n",
    "class NeuralNet(nn.Module):\n",
    "    def __init__(self):\n",
    "        super().__init__()\n",
    "        layers = []\n",
    "        in_features = input_size * 8\n",
    "        last_in_features = in_features\n",
    "        out_features = input_size * 16\n",
    "\n",
    "        for _ in range(hidden_layer_overlaps):\n",
    "            layers.append(nn.Linear(in_features, out_features))\n",
    "            layers.append(nn.ReLU())\n",
    "            in_features = out_features\n",
    "            out_features //= 2  # 출력 차원 줄이는 정도 (=나누기 2)\n",
    "        layers.append(nn.Linear(in_features, last_in_features))  # last layer  # input_size*1\n",
    "\n",
    "        self.fcn = nn.Sequential(*layers)  # Fully Connected Network\n",
    "\n",
    "    def forward(self, x):\n",
    "        y = self.fcn(x)\n",
    "        return y"
   ]
  },
  {
   "cell_type": "markdown",
   "metadata": {},
   "source": [
    "$\n",
    "P = \\big|\n",
    "\\begin{pmatrix}\n",
    "0 & 1 \\\\\n",
    "\\end{pmatrix}\n",
    "U(t)\n",
    "\\begin{pmatrix}\n",
    "1 \\\\\n",
    "0 \\\\\n",
    "\\end{pmatrix}\n",
    "\\big| ^2\n",
    "$"
   ]
  },
  {
   "cell_type": "code",
   "execution_count": 31,
   "metadata": {},
   "outputs": [
    {
     "name": "stdout",
     "output_type": "stream",
     "text": [
      "tensor([24.3009], grad_fn=<AddBackward0>)\n",
      "tensor([23.6898], grad_fn=<AddBackward0>)\n",
      "tensor([23.3530], grad_fn=<AddBackward0>)\n",
      "tensor([23.1151], grad_fn=<AddBackward0>)\n",
      "tensor([22.9324], grad_fn=<AddBackward0>)\n",
      "tensor([22.7845], grad_fn=<AddBackward0>)\n",
      "tensor([22.6612], grad_fn=<AddBackward0>)\n",
      "tensor([22.5573], grad_fn=<AddBackward0>)\n",
      "tensor([22.4682], grad_fn=<AddBackward0>)\n",
      "tensor([22.3908], grad_fn=<AddBackward0>)\n",
      "tensor([22.3234], grad_fn=<AddBackward0>)\n",
      "tensor([22.2639], grad_fn=<AddBackward0>)\n",
      "tensor([22.2113], grad_fn=<AddBackward0>)\n",
      "tensor([22.1644], grad_fn=<AddBackward0>)\n",
      "tensor([22.1223], grad_fn=<AddBackward0>)\n",
      "tensor([22.0842], grad_fn=<AddBackward0>)\n",
      "tensor([22.0495], grad_fn=<AddBackward0>)\n",
      "tensor([22.0176], grad_fn=<AddBackward0>)\n",
      "tensor([21.9882], grad_fn=<AddBackward0>)\n",
      "tensor([21.9608], grad_fn=<AddBackward0>)\n",
      "tensor([21.9352], grad_fn=<AddBackward0>)\n",
      "tensor([21.9112], grad_fn=<AddBackward0>)\n",
      "tensor([21.8883], grad_fn=<AddBackward0>)\n",
      "tensor([21.8664], grad_fn=<AddBackward0>)\n",
      "tensor([21.8454], grad_fn=<AddBackward0>)\n",
      "tensor([21.8254], grad_fn=<AddBackward0>)\n",
      "tensor([21.8061], grad_fn=<AddBackward0>)\n",
      "tensor([21.7874], grad_fn=<AddBackward0>)\n",
      "tensor([21.7692], grad_fn=<AddBackward0>)\n",
      "tensor([21.7514], grad_fn=<AddBackward0>)\n",
      "tensor([21.7339], grad_fn=<AddBackward0>)\n",
      "tensor([21.7168], grad_fn=<AddBackward0>)\n",
      "tensor([21.6999], grad_fn=<AddBackward0>)\n",
      "tensor([21.6833], grad_fn=<AddBackward0>)\n",
      "tensor([21.6669], grad_fn=<AddBackward0>)\n",
      "tensor([21.6506], grad_fn=<AddBackward0>)\n",
      "tensor([21.6345], grad_fn=<AddBackward0>)\n",
      "tensor([21.6184], grad_fn=<AddBackward0>)\n",
      "tensor([21.6024], grad_fn=<AddBackward0>)\n",
      "tensor([21.5865], grad_fn=<AddBackward0>)\n",
      "tensor([21.5705], grad_fn=<AddBackward0>)\n",
      "tensor([21.5545], grad_fn=<AddBackward0>)\n",
      "tensor([21.5384], grad_fn=<AddBackward0>)\n",
      "tensor([21.5223], grad_fn=<AddBackward0>)\n",
      "tensor([21.5061], grad_fn=<AddBackward0>)\n",
      "tensor([21.4898], grad_fn=<AddBackward0>)\n",
      "tensor([21.4733], grad_fn=<AddBackward0>)\n",
      "tensor([21.4567], grad_fn=<AddBackward0>)\n",
      "tensor([21.4400], grad_fn=<AddBackward0>)\n",
      "tensor([21.4230], grad_fn=<AddBackward0>)\n",
      "tensor([21.4059], grad_fn=<AddBackward0>)\n",
      "tensor([21.3885], grad_fn=<AddBackward0>)\n",
      "tensor([21.3708], grad_fn=<AddBackward0>)\n",
      "tensor([21.3528], grad_fn=<AddBackward0>)\n",
      "tensor([21.3346], grad_fn=<AddBackward0>)\n",
      "tensor([21.3160], grad_fn=<AddBackward0>)\n",
      "tensor([21.2970], grad_fn=<AddBackward0>)\n",
      "tensor([21.2776], grad_fn=<AddBackward0>)\n",
      "tensor([21.2579], grad_fn=<AddBackward0>)\n",
      "tensor([21.2376], grad_fn=<AddBackward0>)\n",
      "tensor([21.2168], grad_fn=<AddBackward0>)\n",
      "tensor([21.1955], grad_fn=<AddBackward0>)\n",
      "tensor([21.1736], grad_fn=<AddBackward0>)\n",
      "tensor([21.1511], grad_fn=<AddBackward0>)\n",
      "tensor([21.1279], grad_fn=<AddBackward0>)\n",
      "tensor([21.1039], grad_fn=<AddBackward0>)\n",
      "tensor([21.0786], grad_fn=<AddBackward0>)\n",
      "tensor([21.0520], grad_fn=<AddBackward0>)\n",
      "tensor([21.0246], grad_fn=<AddBackward0>)\n",
      "tensor([20.9962], grad_fn=<AddBackward0>)\n",
      "tensor([20.9667], grad_fn=<AddBackward0>)\n",
      "tensor([20.9360], grad_fn=<AddBackward0>)\n",
      "tensor([20.9038], grad_fn=<AddBackward0>)\n",
      "tensor([20.8700], grad_fn=<AddBackward0>)\n",
      "tensor([20.8345], grad_fn=<AddBackward0>)\n",
      "tensor([20.7970], grad_fn=<AddBackward0>)\n",
      "tensor([20.7573], grad_fn=<AddBackward0>)\n",
      "tensor([20.7151], grad_fn=<AddBackward0>)\n",
      "tensor([20.6701], grad_fn=<AddBackward0>)\n",
      "tensor([20.6219], grad_fn=<AddBackward0>)\n",
      "tensor([20.5702], grad_fn=<AddBackward0>)\n",
      "tensor([20.5143], grad_fn=<AddBackward0>)\n",
      "tensor([20.4537], grad_fn=<AddBackward0>)\n",
      "tensor([20.3876], grad_fn=<AddBackward0>)\n",
      "tensor([20.3151], grad_fn=<AddBackward0>)\n",
      "tensor([20.2350], grad_fn=<AddBackward0>)\n",
      "tensor([20.1460], grad_fn=<AddBackward0>)\n",
      "tensor([20.0464], grad_fn=<AddBackward0>)\n",
      "tensor([19.9340], grad_fn=<AddBackward0>)\n",
      "tensor([19.8063], grad_fn=<AddBackward0>)\n",
      "tensor([19.6580], grad_fn=<AddBackward0>)\n",
      "tensor([19.4845], grad_fn=<AddBackward0>)\n",
      "tensor([19.2812], grad_fn=<AddBackward0>)\n",
      "tensor([19.0401], grad_fn=<AddBackward0>)\n",
      "tensor([18.7510], grad_fn=<AddBackward0>)\n",
      "tensor([18.4007], grad_fn=<AddBackward0>)\n",
      "tensor([17.9712], grad_fn=<AddBackward0>)\n",
      "tensor([17.4388], grad_fn=<AddBackward0>)\n",
      "tensor([16.7747], grad_fn=<AddBackward0>)\n",
      "tensor([15.9419], grad_fn=<AddBackward0>)\n"
     ]
    },
    {
     "data": {
      "image/png": "[encoded data removed]",
      "text/plain": [
       "<Figure size 640x480 with 1 Axes>"
      ]
     },
     "metadata": {},
     "output_type": "display_data"
    },
    {
     "data": {
      "image/png": "[encoded data removed]",
      "text/plain": [
       "<Figure size 640x480 with 1 Axes>"
      ]
     },
     "metadata": {},
     "output_type": "display_data"
    },
    {
     "name": "stdout",
     "output_type": "stream",
     "text": [
      "tensor([[1.0000+0.0000j, 0.0000+0.0000j, 0.0000+0.0000j, 0.0000+0.0000j],\n",
      "        [0.0000+0.0000j, 0.9815+0.0000j, 0.0000+0.1915j, 0.0000+0.0000j],\n",
      "        [0.0000+0.0000j, 0.0000+0.1915j, 0.9815+0.0000j, 0.0000+0.0000j],\n",
      "        [0.0000+0.0000j, 0.0000+0.0000j, 0.0000+0.0000j, 1.0000+0.0000j]],\n",
      "       grad_fn=<AddBackward0>)\n"
     ]
    }
   ],
   "source": [
    "learning_rate = 1e-3\n",
    "\n",
    "model_g = NeuralNet()\n",
    "model_s1 = NeuralNet()\n",
    "model_s2 = NeuralNet()\n",
    "optimizer_g = torch.optim.SGD(model_g.parameters(), lr=learning_rate)  # lr = learning rate\n",
    "optimizer_s1 = torch.optim.SGD(model_s1.parameters(), lr=learning_rate)\n",
    "optimizer_s2 = torch.optim.SGD(model_s2.parameters(), lr=learning_rate)\n",
    "\n",
    "loss_list = []\n",
    "list_g = []\n",
    "list_s1 = []\n",
    "list_s2 = []\n",
    "\n",
    "epoch_range = 1000+1\n",
    "export_epoch = 10\n",
    "T_size = input_size * 8\n",
    "\n",
    "for epoch in range(epoch_range):\n",
    "    input_t = torch.arange(T_size) * dt\n",
    "    gt = model_g(input_t)\n",
    "    model_g.train()\n",
    "\n",
    "    ut = u0.detach().clone()\n",
    "\n",
    "    for T in range(1, T_size):\n",
    "        dudt = -1j * torch.matmul(H(gt[T], T), ut)\n",
    "        ut = ut + dudt*dt\n",
    "    \n",
    "    p1 = (torch.matmul(torch.matmul(torch.tensor([[0, 1, 0, 0]]) * (1. + 0j), ut), torch.tensor([[0], [1], [0], [0]])*(1. + 0j)))[0]\n",
    "    p2 = (torch.matmul(torch.matmul(torch.tensor([[0, 1, 0, 0]]) * (1. + 0j), ut), torch.tensor([[0], [0], [1], [0]])*(1. + 0j)) - 1j)[0]\n",
    "    p3 = (torch.matmul(torch.matmul(torch.tensor([[0, 0, 1, 0]]) * (1. + 0j), ut), torch.tensor([[0], [1], [0], [0]])*(1. + 0j)) - 1j)[0]\n",
    "    p4 = (torch.matmul(torch.matmul(torch.tensor([[0, 0, 1, 0]]) * (1. + 0j), ut), torch.tensor([[0], [0], [1], [0]])*(1. + 0j)))[0]\n",
    "\n",
    "    loss = (+ 1  * (torch.square(np.imag(p1)) + torch.square(np.real(p1))).requires_grad_(True)\n",
    "            + 10 * (torch.square(np.real(p2)) + torch.square(np.imag(p2))).requires_grad_(True) \n",
    "            + 10 * (torch.square(np.real(p3)) + torch.square(np.imag(p3))).requires_grad_(True) \n",
    "            + 1  * (torch.square(np.imag(p4)) + torch.square(np.real(p4))).requires_grad_(True)\n",
    "            + 1  * torch.sum((torch.diff(gt)**2)+torch.sum(torch.var(gt))).requires_grad_(True))\n",
    "    \n",
    "    loss.backward()\n",
    "    optimizer_g.step()\n",
    "    optimizer_g.zero_grad()\n",
    "\n",
    "    if epoch % export_epoch == 1:  # export_epoch = 10\n",
    "        print(loss)\n",
    "        # print(ut)\n",
    "        # plt.plot(st.detach().numpy(), 'b')\n",
    "        plt.show()\n",
    "        loss_list.append(loss.item())\n",
    "\n",
    "plt.plot(loss_list, 'b.')\n",
    "plt.show()\n",
    "\n",
    "plt.plot(gt.detach().numpy(), 'b')\n",
    "plt.show()\n",
    "print(ut)"
   ]
  },
  {
   "cell_type": "code",
   "execution_count": 32,
   "metadata": {},
   "outputs": [
    {
     "name": "stdout",
     "output_type": "stream",
     "text": [
      "-3.0\n",
      "tensor([[-0.0367+0.j]], grad_fn=<PowBackward0>)\n"
     ]
    }
   ],
   "source": [
    "z = 1 - 3j\n",
    "print(np.imag(z))\n",
    "print(torch.square(torch.matmul(torch.matmul(torch.tensor([[0, 1, 0, 0]]) * (1. + 0j), ut), torch.tensor([[0], [0], [1], [0]])*(1. + 0j))))"
   ]
  },
  {
   "cell_type": "code",
   "execution_count": 33,
   "metadata": {},
   "outputs": [
    {
     "ename": "NameError",
     "evalue": "name 's1t' is not defined",
     "output_type": "error",
     "traceback": [
      "\u001b[1;31m---------------------------------------------------------------------------\u001b[0m",
      "\u001b[1;31mNameError\u001b[0m                                 Traceback (most recent call last)",
      "Cell \u001b[1;32mIn[33], line 1\u001b[0m\n\u001b[1;32m----> 1\u001b[0m plt\u001b[38;5;241m.\u001b[39mplot(s1t\u001b[38;5;241m.\u001b[39mdetach()\u001b[38;5;241m.\u001b[39mnumpy(), \u001b[38;5;124m'\u001b[39m\u001b[38;5;124mb\u001b[39m\u001b[38;5;124m'\u001b[39m)\n\u001b[0;32m      2\u001b[0m plt\u001b[38;5;241m.\u001b[39mshow()\n\u001b[0;32m      3\u001b[0m plt\u001b[38;5;241m.\u001b[39mplot(s2t\u001b[38;5;241m.\u001b[39mdetach()\u001b[38;5;241m.\u001b[39mnumpy(), \u001b[38;5;124m'\u001b[39m\u001b[38;5;124mb\u001b[39m\u001b[38;5;124m'\u001b[39m)\n",
      "\u001b[1;31mNameError\u001b[0m: name 's1t' is not defined"
     ]
    }
   ],
   "source": [
    "plt.plot(s1t.detach().numpy(), 'b')\n",
    "plt.show()\n",
    "plt.plot(s2t.detach().numpy(), 'b')\n",
    "plt.show()"
   ]
  }
 ],
 "metadata": {
  "kernelspec": {
   "display_name": "main",
   "language": "python",
   "name": "python3"
  },
  "language_info": {
   "codemirror_mode": {
    "name": "ipython",
    "version": 3
   },
   "file_extension": ".py",
   "mimetype": "text/x-python",
   "name": "python",
   "nbconvert_exporter": "python",
   "pygments_lexer": "ipython3",
   "version": "3.11.5"
  }
 },
 "nbformat": 4,
 "nbformat_minor": 2
}
